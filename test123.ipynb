{
  "nbformat": 4,
  "nbformat_minor": 0,
  "metadata": {
    "colab": {
      "provenance": [],
      "name": "test1.ipynb",
      "authorship_tag": "ABX9TyPxxWWRCwMpWXJk4rcgbnng",
      "include_colab_link": true
    },
    "kernelspec": {
      "name": "python3",
      "display_name": "Python 3"
    },
    "language_info": {
      "name": "python"
    }
  },
  "cells": [
    {
      "cell_type": "markdown",
      "metadata": {
        "id": "view-in-github",
        "colab_type": "text"
      },
      "source": [
        "<a href=\"https://colab.research.google.com/github/test123test5644/test/blob/main/test123.ipynb\" target=\"_parent\"><img src=\"https://colab.research.google.com/assets/colab-badge.svg\" alt=\"Open In Colab\"/></a>"
      ]
    },
    {
      "cell_type": "code",
      "execution_count": 3,
      "metadata": {
        "id": "QLjGndo9oz-Q",
        "colab": {
          "base_uri": "https://localhost:8080/"
        },
        "outputId": "20e8dc82-b428-4e44-84ea-2d6a3ded320b"
      },
      "outputs": [
        {
          "output_type": "stream",
          "name": "stdout",
          "text": [
            "test\n",
            "test123\n"
          ]
        }
      ],
      "source": [
        "print(\"test\")\n",
        "\n",
        "print(\"test123\")\n",
        "\n"
      ]
    }
  ]
}