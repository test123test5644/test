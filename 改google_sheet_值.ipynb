{
  "nbformat": 4,
  "nbformat_minor": 0,
  "metadata": {
    "colab": {
      "provenance": [],
      "include_colab_link": true
    },
    "kernelspec": {
      "name": "python3",
      "display_name": "Python 3"
    },
    "language_info": {
      "name": "python"
    }
  },
  "cells": [
    {
      "cell_type": "markdown",
      "metadata": {
        "id": "view-in-github",
        "colab_type": "text"
      },
      "source": [
        "<a href=\"https://colab.research.google.com/github/test123test5644/test/blob/main/%E6%94%B9google_sheet_%E5%80%BC.ipynb\" target=\"_parent\"><img src=\"https://colab.research.google.com/assets/colab-badge.svg\" alt=\"Open In Colab\"/></a>"
      ]
    },
    {
      "cell_type": "code",
      "execution_count": null,
      "metadata": {
        "colab": {
          "base_uri": "https://localhost:8080/"
        },
        "id": "y3uPyFn06zOp",
        "outputId": "e6e85f27-24bd-4d6f-a50a-56529a26beda"
      },
      "outputs": [
        {
          "output_type": "stream",
          "name": "stdout",
          "text": [
            "A1已更新為1\n",
            "Apps Script 已成功执行。\n",
            "Function executed successfully.\n"
          ]
        }
      ],
      "source": [
        "#用python 直接改值---------------------------------A1 123456\n",
        "import gspread\n",
        "from oauth2client.service_account import ServiceAccountCredentials\n",
        "\n",
        "\n",
        "# 設置Google Sheets API的作用範圍\n",
        "scope = [\"https://spreadsheets.google.com/feeds\", \"https://www.googleapis.com/auth/spreadsheets\", \"https://www.googleapis.com/auth/drive.file\", \"https://www.googleapis.com/auth/drive\"]\n",
        "\n",
        "# 使用您的服務帳戶憑證\n",
        "creds = ServiceAccountCredentials.from_json_keyfile_name('/content/drive/MyDrive/google試算表/lively-vim-431500-v3-416bb0754743.json', scope)\n",
        "\n",
        "# 使用gspread客戶端進行身份驗證\n",
        "client = gspread.authorize(creds)\n",
        "\n",
        "# 打開Google Sheets文檔\n",
        "sheet = client.open_by_key(\"1I4ebJ20KkcrIYfxKUGuerYVOWqmDKi-ScdTLNsJtDlA\").sheet1  # 或使用其他索引來選擇工作表\n",
        "\n",
        "# 在A1單元格填入數字1\n",
        "sheet.update_acell('A1', 123456)\n",
        "\n",
        "print(\"A1已更新為1\")\n",
        "\n",
        "\n",
        "#用apps script 的程式改值.--------------------------A2 1234  python 填值_hung\n",
        "import requests\n",
        "\n",
        "# 替换为你的 Web App URL\n",
        "url = \"https://script.google.com/macros/s/AKfycbz96xr47gyvu_cK5P2sEXodwVwz1ms-Ibu6TYBEI2g_OMQufiwkcP5oLM0W-tu3EPQ0Ng/exec\"\n",
        "\n",
        "response = requests.get(url)\n",
        "\n",
        "if response.status_code == 200:\n",
        "    print(\"Apps Script 已成功执行。\")\n",
        "    print(response.text)  # 打印返回的内容，可能是 HTML\n",
        "else:\n",
        "    print(f\"执行失败，状态码: {response.status_code}\")\n",
        "    print(response.text)  # 打印返回的内容，可能是 HTML\n",
        "with open(\"response.html\", \"w\", encoding=\"utf-8\") as f:\n",
        "    f.write(response.text)\n",
        "\n"
      ]
    },
    {
      "cell_type": "code",
      "source": [
        "from google.colab import drive\n",
        "drive.mount('/content/drive')"
      ],
      "metadata": {
        "colab": {
          "base_uri": "https://localhost:8080/"
        },
        "id": "Gjv4vamE7s4U",
        "outputId": "8a225857-1ae0-45c6-e5fb-88e78cef2390"
      },
      "execution_count": null,
      "outputs": [
        {
          "output_type": "stream",
          "name": "stdout",
          "text": [
            "Drive already mounted at /content/drive; to attempt to forcibly remount, call drive.mount(\"/content/drive\", force_remount=True).\n"
          ]
        }
      ]
    }
  ]
}