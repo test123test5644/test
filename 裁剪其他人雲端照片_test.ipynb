{
  "nbformat": 4,
  "nbformat_minor": 0,
  "metadata": {
    "colab": {
      "provenance": [],
      "toc_visible": true,
      "authorship_tag": "ABX9TyPi2AFu8NN5Yj1fh4cMFqkQ",
      "include_colab_link": true
    },
    "kernelspec": {
      "name": "python3",
      "display_name": "Python 3"
    },
    "language_info": {
      "name": "python"
    }
  },
  "cells": [
    {
      "cell_type": "markdown",
      "metadata": {
        "id": "view-in-github",
        "colab_type": "text"
      },
      "source": [
        "<a href=\"https://colab.research.google.com/github/test123test5644/test/blob/main/%E8%A3%81%E5%89%AA%E5%85%B6%E4%BB%96%E4%BA%BA%E9%9B%B2%E7%AB%AF%E7%85%A7%E7%89%87_test.ipynb\" target=\"_parent\"><img src=\"https://colab.research.google.com/assets/colab-badge.svg\" alt=\"Open In Colab\"/></a>"
      ]
    },
    {
      "cell_type": "code",
      "execution_count": 1,
      "metadata": {
        "colab": {
          "base_uri": "https://localhost:8080/",
          "height": 436
        },
        "id": "rZJrepLu5cby",
        "outputId": "c0c43376-791a-4f20-bc68-044407de6e89"
      },
      "outputs": [
        {
          "output_type": "stream",
          "name": "stdout",
          "text": [
            "Mounted at /content/drive\n",
            "请输入执行的次数: 100\n",
            "请输入每次操作之间的等待时间（秒）: 10\n",
            "执行第 1 次操作...\n",
            "目录中只有输出文件或没有可裁剪的文件，跳过裁剪操作。\n",
            "执行第 2 次操作...\n",
            "目录中只有输出文件或没有可裁剪的文件，跳过裁剪操作。\n"
          ]
        },
        {
          "output_type": "error",
          "ename": "KeyboardInterrupt",
          "evalue": "",
          "traceback": [
            "\u001b[0;31m---------------------------------------------------------------------------\u001b[0m",
            "\u001b[0;31mKeyboardInterrupt\u001b[0m                         Traceback (most recent call last)",
            "\u001b[0;32m<ipython-input-1-85990dcbb3ee>\u001b[0m in \u001b[0;36m<cell line: 82>\u001b[0;34m()\u001b[0m\n\u001b[1;32m     80\u001b[0m \u001b[0;34m\u001b[0m\u001b[0m\n\u001b[1;32m     81\u001b[0m \u001b[0;31m# 开始处理图像\u001b[0m\u001b[0;34m\u001b[0m\u001b[0;34m\u001b[0m\u001b[0m\n\u001b[0;32m---> 82\u001b[0;31m \u001b[0mprocess_images\u001b[0m\u001b[0;34m(\u001b[0m\u001b[0mdirectory_path\u001b[0m\u001b[0;34m,\u001b[0m \u001b[0moutput_file_name\u001b[0m\u001b[0;34m,\u001b[0m \u001b[0mcrop_area\u001b[0m\u001b[0;34m,\u001b[0m \u001b[0mnum_iterations\u001b[0m\u001b[0;34m,\u001b[0m \u001b[0mwait_seconds\u001b[0m\u001b[0;34m)\u001b[0m\u001b[0;34m\u001b[0m\u001b[0;34m\u001b[0m\u001b[0m\n\u001b[0m",
            "\u001b[0;32m<ipython-input-1-85990dcbb3ee>\u001b[0m in \u001b[0;36mprocess_images\u001b[0;34m(directory_path, output_file_name, crop_area, num_iterations, wait_seconds)\u001b[0m\n\u001b[1;32m     64\u001b[0m \u001b[0;34m\u001b[0m\u001b[0m\n\u001b[1;32m     65\u001b[0m         \u001b[0;31m# 等待指定的秒数\u001b[0m\u001b[0;34m\u001b[0m\u001b[0;34m\u001b[0m\u001b[0m\n\u001b[0;32m---> 66\u001b[0;31m         \u001b[0mtime\u001b[0m\u001b[0;34m.\u001b[0m\u001b[0msleep\u001b[0m\u001b[0;34m(\u001b[0m\u001b[0mwait_seconds\u001b[0m\u001b[0;34m)\u001b[0m\u001b[0;34m\u001b[0m\u001b[0;34m\u001b[0m\u001b[0m\n\u001b[0m\u001b[1;32m     67\u001b[0m \u001b[0;34m\u001b[0m\u001b[0m\n\u001b[1;32m     68\u001b[0m     \u001b[0mprint\u001b[0m\u001b[0;34m(\u001b[0m\u001b[0;34mf\"{num_iterations} 次操作已完成。\"\u001b[0m\u001b[0;34m)\u001b[0m\u001b[0;34m\u001b[0m\u001b[0;34m\u001b[0m\u001b[0m\n",
            "\u001b[0;31mKeyboardInterrupt\u001b[0m: "
          ]
        }
      ],
      "source": [
        "from PIL import Image\n",
        "import os\n",
        "import time\n",
        "from google.colab import drive\n",
        "\n",
        "# 挂载 Google Drive\n",
        "drive.mount('/content/drive')\n",
        "\n",
        "def get_first_file_in_directory(directory, exclude_file=None):\n",
        "    \"\"\"\n",
        "    获取指定目录中的第一个文件的路径，可以排除指定的文件。\n",
        "\n",
        "    :param directory: 目录路径。\n",
        "    :param exclude_file: 要排除的文件名（可选）。\n",
        "    :return: 第一个文件的完整路径。\n",
        "    \"\"\"\n",
        "    files = [f for f in os.listdir(directory) if f != exclude_file]\n",
        "    if not files:\n",
        "        return None\n",
        "\n",
        "    first_file = files[0]\n",
        "    return os.path.join(directory, first_file)\n",
        "\n",
        "def crop_image(input_image_path, output_image_path, crop_area):\n",
        "    \"\"\"\n",
        "    裁剪图像到指定区域，并删除原始图像。\n",
        "\n",
        "    :param input_image_path: 输入图像的路径。\n",
        "    :param output_image_path: 保存裁剪后图像的路径。\n",
        "    :param crop_area: 一个元组 (left, top, right, bottom)，指定裁剪区域。\n",
        "    \"\"\"\n",
        "    with Image.open(input_image_path) as image:\n",
        "        cropped_image = image.crop(crop_area)\n",
        "        cropped_image.save(output_image_path)\n",
        "        print(f\"图像已保存到 {output_image_path}\")\n",
        "\n",
        "    # 删除原始图像\n",
        "    os.remove(input_image_path)\n",
        "    print(f\"原始图像 {input_image_path} 已删除\")\n",
        "\n",
        "def process_images(directory_path, output_file_name, crop_area, num_iterations, wait_seconds):\n",
        "    \"\"\"\n",
        "    定期检查目录，裁剪第一个图像并删除原始图像。\n",
        "\n",
        "    :param directory_path: 目录路径。\n",
        "    :param output_file_name: 输出文件名。\n",
        "    :param crop_area: 一个元组 (left, top, right, bottom)，指定裁剪区域。\n",
        "    :param num_iterations: 执行的次数。\n",
        "    :param wait_seconds: 每次操作之间的等待时间（秒）。\n",
        "    \"\"\"\n",
        "    output_path = os.path.join(directory_path, output_file_name)  # 输出路径\n",
        "\n",
        "    for i in range(num_iterations):\n",
        "        print(f\"执行第 {i+1} 次操作...\")\n",
        "\n",
        "        # 获取目录中的第一个文件（排除输出文件）\n",
        "        input_path = get_first_file_in_directory(directory_path, exclude_file=output_file_name)\n",
        "\n",
        "        if input_path is None:\n",
        "            print(\"目录中只有输出文件或没有可裁剪的文件，跳过裁剪操作。\")\n",
        "        else:\n",
        "            # 裁剪图像并删除原始图像\n",
        "            crop_image(input_path, output_path, crop_area)\n",
        "\n",
        "        # 等待指定的秒数\n",
        "        time.sleep(wait_seconds)\n",
        "\n",
        "    print(f\"{num_iterations} 次操作已完成。\")\n",
        "\n",
        "# 使用共享的 Google Drive 目录路径\n",
        "directory_path = \"/content/drive/My Drive/上傳的檔案地方/\"  # 替换为你在共享 Google Drive 中的目录路径\n",
        "output_file_name = \"output.jpg\"\n",
        "\n",
        "# 定义裁剪区域 (左, 上, 右, 下)\n",
        "crop_area = (300, 290, 493, 2800)\n",
        "\n",
        "# 获取用户输入的执行次数和等待时间\n",
        "num_iterations = int(input(\"请输入执行的次数: \"))\n",
        "wait_seconds = int(input(\"请输入每次操作之间的等待时间（秒）: \"))\n",
        "\n",
        "# 开始处理图像\n",
        "process_images(directory_path, output_file_name, crop_area, num_iterations, wait_seconds)\n"
      ]
    },
    {
      "cell_type": "code",
      "source": [
        "# 列出 My Drive 下的文件夹\n",
        "!ls \"/content/drive/My Drive/上傳的檔案地方/\""
      ],
      "metadata": {
        "colab": {
          "base_uri": "https://localhost:8080/"
        },
        "id": "y2CoauOu79nX",
        "outputId": "62d3c862-3cc6-4c49-f3bb-4ff611f5e2dd"
      },
      "execution_count": null,
      "outputs": [
        {
          "output_type": "stream",
          "name": "stdout",
          "text": [
            "output.jpg\n"
          ]
        }
      ]
    },
    {
      "cell_type": "markdown",
      "source": [],
      "metadata": {
        "id": "0aucKXb560-8"
      }
    }
  ]
}